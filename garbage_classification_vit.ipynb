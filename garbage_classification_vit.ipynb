{
  "nbformat": 4,
  "nbformat_minor": 0,
  "metadata": {
    "colab": {
      "provenance": [],
      "machine_shape": "hm",
      "gpuType": "T4",
      "authorship_tag": "ABX9TyOtZiWhZkXptcz5BO3FlkqR",
      "include_colab_link": true
    },
    "kernelspec": {
      "name": "python3",
      "display_name": "Python 3"
    },
    "language_info": {
      "name": "python"
    },
    "accelerator": "GPU"
  },
  "cells": [
    {
      "cell_type": "markdown",
      "metadata": {
        "id": "view-in-github",
        "colab_type": "text"
      },
      "source": [
        "<a href=\"https://colab.research.google.com/github/Burak-Akca/Garbage-Classification_with_Vit/blob/main/garbage_classification_vit.ipynb\" target=\"_parent\"><img src=\"https://colab.research.google.com/assets/colab-badge.svg\" alt=\"Open In Colab\"/></a>"
      ]
    },
    {
      "cell_type": "code",
      "source": [
        "from tensorflow.keras.models import Sequential\n",
        "from tensorflow.keras.layers import InputLayer,Rescaling,Dense,RandomTranslation,RandomBrightness,RandomWidth,RandomHeight,RandomContrast, Conv2D,Input, MaxPooling2D, Flatten, GlobalAveragePooling2D,Dropout,Rescaling,RandomFlip,RandomRotation,RandomZoom,Reshape\n",
        "from sklearn.metrics import confusion_matrix, ConfusionMatrixDisplay\n",
        "import matplotlib.pyplot as plt\n",
        "from tensorflow.keras.applications import EfficientNetB7\n",
        "\n"
      ],
      "metadata": {
        "id": "5qONhCoQFkSS"
      },
      "execution_count": null,
      "outputs": []
    },
    {
      "cell_type": "code",
      "execution_count": null,
      "metadata": {
        "colab": {
          "base_uri": "https://localhost:8080/"
        },
        "id": "ZoxWuEk_EPuE",
        "outputId": "655155e6-8786-461f-8d07-187cb3c02952"
      },
      "outputs": [
        {
          "output_type": "stream",
          "name": "stdout",
          "text": [
            "Drive already mounted at /content/drive; to attempt to forcibly remount, call drive.mount(\"/content/drive\", force_remount=True).\n"
          ]
        }
      ],
      "source": [
        "from google.colab import drive\n",
        "drive.mount('/content/drive')"
      ]
    },
    {
      "cell_type": "code",
      "source": [
        "import zipfile"
      ],
      "metadata": {
        "id": "WFYiCiBsEV09"
      },
      "execution_count": null,
      "outputs": []
    },
    {
      "cell_type": "code",
      "source": [
        "zip_ref=zipfile.ZipFile(\"/content/drive/MyDrive/Data/ysa-data.zip\")"
      ],
      "metadata": {
        "id": "CmB0_y9CFLZc"
      },
      "execution_count": null,
      "outputs": []
    },
    {
      "cell_type": "code",
      "source": [
        "zip_ref.extractall(\"/content/\")"
      ],
      "metadata": {
        "id": "Ra0pBGK9FNV4"
      },
      "execution_count": null,
      "outputs": []
    },
    {
      "cell_type": "code",
      "source": [
        "\n",
        "zip_ref.close()\n"
      ],
      "metadata": {
        "id": "KEXAiOVMFPU9"
      },
      "execution_count": null,
      "outputs": []
    },
    {
      "cell_type": "code",
      "source": [
        "data_dir=\"/content/ysa-data\""
      ],
      "metadata": {
        "id": "tuxa1YEDFRKv"
      },
      "execution_count": null,
      "outputs": []
    },
    {
      "cell_type": "code",
      "source": [
        "import tensorflow as tf"
      ],
      "metadata": {
        "id": "wcD_7ZjHFUSO"
      },
      "execution_count": null,
      "outputs": []
    },
    {
      "cell_type": "code",
      "source": [
        "dataset = tf.keras.preprocessing.image_dataset_from_directory(\n",
        "    data_dir,\n",
        "    image_size=(224, 224),\n",
        "    batch_size=32\n",
        ")"
      ],
      "metadata": {
        "colab": {
          "base_uri": "https://localhost:8080/"
        },
        "id": "cdyBf-f6FXHv",
        "outputId": "9a594318-750b-4fd1-cd47-fb57afd4ad3c"
      },
      "execution_count": null,
      "outputs": [
        {
          "output_type": "stream",
          "name": "stdout",
          "text": [
            "Found 9194 files belonging to 10 classes.\n"
          ]
        }
      ]
    },
    {
      "cell_type": "code",
      "source": [
        "len(dataset)"
      ],
      "metadata": {
        "colab": {
          "base_uri": "https://localhost:8080/"
        },
        "id": "8IrmLAFJFY0V",
        "outputId": "2932a46c-e180-4c24-dd2a-35a159a78e3e"
      },
      "execution_count": null,
      "outputs": [
        {
          "output_type": "execute_result",
          "data": {
            "text/plain": [
              "288"
            ]
          },
          "metadata": {},
          "execution_count": 36
        }
      ]
    },
    {
      "cell_type": "code",
      "source": [
        "train_size =0.8\n",
        "len(dataset)*train_size"
      ],
      "metadata": {
        "colab": {
          "base_uri": "https://localhost:8080/"
        },
        "id": "6meqE3t_glgh",
        "outputId": "787ab042-fc73-456e-8961-76c66a2fe8f1"
      },
      "execution_count": null,
      "outputs": [
        {
          "output_type": "execute_result",
          "data": {
            "text/plain": [
              "230.4"
            ]
          },
          "metadata": {},
          "execution_count": 37
        }
      ]
    },
    {
      "cell_type": "code",
      "source": [
        "train_ds=dataset.take(230)\n",
        "test_ds=dataset.skip(230)"
      ],
      "metadata": {
        "id": "B-34JLLlg6Fk"
      },
      "execution_count": null,
      "outputs": []
    },
    {
      "cell_type": "code",
      "source": [
        "len(test_ds)"
      ],
      "metadata": {
        "colab": {
          "base_uri": "https://localhost:8080/"
        },
        "id": "IXiBhsoLhEzq",
        "outputId": "a3bbf654-af8f-4ad2-9bc0-47e947a5dde1"
      },
      "execution_count": null,
      "outputs": [
        {
          "output_type": "execute_result",
          "data": {
            "text/plain": [
              "58"
            ]
          },
          "metadata": {},
          "execution_count": 39
        }
      ]
    },
    {
      "cell_type": "code",
      "source": [
        "val_size=0.1\n",
        "len(dataset)*val_size"
      ],
      "metadata": {
        "colab": {
          "base_uri": "https://localhost:8080/"
        },
        "id": "AmElewrThRDd",
        "outputId": "730a4a4e-6252-445f-9e0f-a1cd84e03f0b"
      },
      "execution_count": null,
      "outputs": [
        {
          "output_type": "execute_result",
          "data": {
            "text/plain": [
              "28.8"
            ]
          },
          "metadata": {},
          "execution_count": 40
        }
      ]
    },
    {
      "cell_type": "code",
      "source": [
        "val_ds=test_ds.take(28)\n",
        "test_ds=test_ds.skip(28)"
      ],
      "metadata": {
        "id": "sRFu9bsPhU5Q"
      },
      "execution_count": null,
      "outputs": []
    },
    {
      "cell_type": "code",
      "source": [
        "def get_dataset_partitions_tf(ds, train_split=0.8, val_split=0.1, test_split=0.1, shuffle=True, shuffle_size=10000):\n",
        "    assert (train_split + test_split + val_split) == 1\n",
        "\n",
        "    ds_size = len(ds)\n",
        "\n",
        "    if shuffle:\n",
        "        ds = ds.shuffle(shuffle_size, seed=12)\n",
        "\n",
        "    train_size = int(train_split * ds_size)\n",
        "    val_size = int(val_split * ds_size)\n",
        "\n",
        "    train_ds = ds.take(train_size)\n",
        "    val_ds = ds.skip(train_size).take(val_size)\n",
        "    test_ds = ds.skip(train_size).skip(val_size)\n",
        "\n",
        "    return train_ds, val_ds, test_ds"
      ],
      "metadata": {
        "id": "iDbvwGoZh0cy"
      },
      "execution_count": null,
      "outputs": []
    },
    {
      "cell_type": "code",
      "source": [
        "train_ds, val_ds, test_ds = get_dataset_partitions_tf(dataset)\n"
      ],
      "metadata": {
        "id": "L5cF7HBGioW5"
      },
      "execution_count": null,
      "outputs": []
    },
    {
      "cell_type": "code",
      "source": [
        "from tensorflow.keras.callbacks import ModelCheckpoint,ReduceLROnPlateau,EarlyStopping\n",
        "\n",
        "# Model ağırlıklarını kaydetmek için\n",
        "checkpoint = ModelCheckpoint(\n",
        "    filepath='best_model_efficientnetb7.keras',  # Ağırlıkların kaydedileceği dosya\n",
        "    monitor='val_accuracy',        # İzlenecek metrik\n",
        "    save_best_only=True,       # Sadece en iyi model kaydedilir\n",
        "    mode='max',                # Metrik düşüşüne odaklanır\n",
        "    verbose=1\n",
        ")\n",
        "\n",
        "# Öğrenme oranını dinamik olarak azaltmak için\n",
        "reduce_lr = ReduceLROnPlateau(\n",
        "    monitor='val_accuracy',        # İzlenecek metrik\n",
        "    factor=0.5,\n",
        "    patience=3,\n",
        "    min_lr=1e-6,               # Öğrenme oranının minimum değeri\n",
        "    verbose=1\n",
        ")\n",
        "early_stopping = EarlyStopping(\n",
        "    monitor='val_accuracy',\n",
        "    patience=6,\n",
        "    restore_best_weights=True,\n",
        "    verbose=1\n",
        ")\n"
      ],
      "metadata": {
        "id": "Kv2xYZDjFaqb"
      },
      "execution_count": null,
      "outputs": []
    },
    {
      "cell_type": "code",
      "source": [
        "data_augmentation = Sequential([\n",
        "            # Görüntüyü 0-255 aralığından 0-1 aralığına normalize et\n",
        "    RandomFlip(\"horizontal\"),   # Görüntüyü yatay çevir\n",
        "    RandomRotation(0.3),        # %30 oranında rastgele döndür\n",
        "    RandomZoom(0.2),            # %20 oranında rastgele zoom\n",
        "    RandomContrast(0.2),        # Kontrastı rastgele değiştir (%20)\n",
        "    RandomHeight(0.2),          # Görüntü yüksekliğini rastgele değiştir\n",
        "    RandomWidth(0.2),           # Görüntü genişliğini rastgele değiştir\n",
        "])"
      ],
      "metadata": {
        "id": "8xBEqmxJFdqY"
      },
      "execution_count": null,
      "outputs": []
    },
    {
      "cell_type": "code",
      "source": [
        "import os\n",
        "import torch\n",
        "from torch.utils.data import Dataset, DataLoader, random_split\n",
        "from torchvision import transforms\n",
        "from PIL import Image\n",
        "import random\n",
        "\n",
        "# Özelleştirilmiş Dataset Sınıfı\n",
        "class CustomDataset(Dataset):\n",
        "    def __init__(self, root_dir, transform=None):\n",
        "        \"\"\"\n",
        "        Args:\n",
        "            root_dir (string): Verilerin bulunduğu ana klasör.\n",
        "            transform (callable, optional): Verilere uygulanacak dönüşüm (transform).\n",
        "        \"\"\"\n",
        "        self.root_dir = root_dir\n",
        "        self.transform = transform\n",
        "        self.classes = os.listdir(root_dir)  # Klasörlerin isimleri, her bir sınıfı temsil eder.\n",
        "        self.image_paths = []\n",
        "        self.labels = []\n",
        "\n",
        "        # Her bir sınıf için resim dosyalarını topla\n",
        "        for label, class_name in enumerate(self.classes):\n",
        "            class_folder = os.path.join(root_dir, class_name)\n",
        "            if os.path.isdir(class_folder):\n",
        "                for image_name in os.listdir(class_folder):\n",
        "                    if image_name.endswith(('jpg', 'jpeg', 'png')):\n",
        "                        self.image_paths.append(os.path.join(class_folder, image_name))\n",
        "                        self.labels.append(label)\n",
        "\n",
        "    def __len__(self):\n",
        "        return len(self.image_paths)\n",
        "\n",
        "    def __getitem__(self, idx):\n",
        "        img_path = self.image_paths[idx]\n",
        "        image = Image.open(img_path).convert(\"RGB\")  # Görüntü dosyasını aç\n",
        "        label = self.labels[idx]  # Etiket (sınıf) bilgisini al\n",
        "\n",
        "        # Dönüşümleri uygula (varsa)\n",
        "        if self.transform:\n",
        "            image = self.transform(image)\n",
        "\n",
        "        return image, label"
      ],
      "metadata": {
        "id": "L0ig9t0Y0z1K"
      },
      "execution_count": null,
      "outputs": []
    },
    {
      "cell_type": "code",
      "source": [
        "\n",
        "\n",
        "# Veri dönüşümleri\n",
        "transform = transforms.Compose([\n",
        "    transforms.Resize((224, 224)),  # Resimleri boyutlandır\n",
        "    transforms.ToTensor(),  # Tensor'a dönüştür\n",
        "    transforms.Normalize(mean=[0.485, 0.456, 0.406], std=[0.229, 0.224, 0.225])  # Normalizasyon\n",
        "])\n",
        "\n",
        "# Veri setini yükle\n",
        "root_dir = '/content/ysa-data'  # Kendi veri setinizin yolu\n",
        "dataset = CustomDataset(root_dir=root_dir, transform=transform)\n",
        "\n",
        "# Veri setini karıştır (shuffle) ve böl\n",
        "train_size = int(0.7 * len(dataset))  # Eğitim verisi %70\n",
        "val_size = int(0.15 * len(dataset))   # Doğrulama verisi %15\n",
        "test_size = len(dataset) - train_size - val_size  # Test verisi %15\n",
        "\n",
        "# Veri setini 3'e ayır\n",
        "train_dataset, val_dataset, test_dataset = random_split(dataset, [train_size, val_size, test_size])\n",
        "\n",
        "# DataLoader'lar\n",
        "batch_size = 32\n",
        "\n",
        "train_loader = DataLoader(train_dataset, batch_size=batch_size, shuffle=True, num_workers=4)\n",
        "val_loader = DataLoader(val_dataset, batch_size=batch_size, shuffle=False, num_workers=4)\n",
        "test_loader = DataLoader(test_dataset, batch_size=batch_size, shuffle=False, num_workers=4)\n",
        "\n",
        "# Modeli yükleyin (Örnek: ViT)\n",
        "from transformers import ViTForImageClassification\n",
        "\n",
        "model = ViTForImageClassification.from_pretrained(\"google/vit-base-patch16-224-in21k\", num_labels=10)\n",
        "\n",
        "# Modeli GPU'ya taşı\n",
        "device = torch.device(\"cuda\" if torch.cuda.is_available() else \"cpu\")\n",
        "model = model.to(device)\n",
        "\n",
        "# Kayıp fonksiyonu ve optimizasyon\n",
        "import torch.optim as optim\n",
        "criterion = torch.nn.CrossEntropyLoss()\n",
        "optimizer = optim.Adam(model.parameters(), lr=1e-4)\n",
        "\n",
        "# Modeli Eğitme\n",
        "num_epochs = 10\n",
        "for epoch in range(num_epochs):\n",
        "    model.train()\n",
        "    running_loss = 0.0\n",
        "    correct = 0\n",
        "    total = 0\n",
        "\n",
        "    for images, labels in train_loader:\n",
        "        images, labels = images.to(device), labels.to(device)\n",
        "\n",
        "        optimizer.zero_grad()  # Gradients sıfırlanır\n",
        "\n",
        "        outputs = model(images).logits  # Modelden çıktılar alınır\n",
        "        loss = criterion(outputs, labels)  # Kayıp hesaplanır\n",
        "\n",
        "        loss.backward()  # Geriye doğru geçiş yapılır\n",
        "        optimizer.step()  # Parametre güncellenir\n",
        "\n",
        "        running_loss += loss.item()\n",
        "\n",
        "        _, predicted = torch.max(outputs, 1)  # Etiket tahmini\n",
        "        total += labels.size(0)\n",
        "        correct += (predicted == labels).sum().item()\n",
        "\n",
        "    epoch_loss = running_loss / len(train_loader)\n",
        "    epoch_acc = 100 * correct / total\n",
        "    print(f\"Epoch {epoch+1}/{num_epochs}, Training Loss: {epoch_loss:.4f}, Training Accuracy: {epoch_acc:.2f}%\")\n",
        "\n",
        "    # Doğrulama seti üzerinde modelin performansını değerlendirme\n",
        "    model.eval()\n",
        "    val_loss = 0.0\n",
        "    val_correct = 0\n",
        "    val_total = 0\n",
        "    with torch.no_grad():\n",
        "        for images, labels in val_loader:\n",
        "            images, labels = images.to(device), labels.to(device)\n",
        "            outputs = model(images).logits\n",
        "            loss = criterion(outputs, labels)\n",
        "\n",
        "            val_loss += loss.item()\n",
        "            _, predicted = torch.max(outputs, 1)\n",
        "            val_total += labels.size(0)\n",
        "            val_correct += (predicted == labels).sum().item()\n",
        "\n",
        "    val_loss = val_loss / len(val_loader)\n",
        "    val_acc = 100 * val_correct / val_total\n",
        "    print(f\"Epoch {epoch+1}/{num_epochs}, Validation Loss: {val_loss:.4f}, Validation Accuracy: {val_acc:.2f}%\")\n",
        "\n",
        "# Test Seti ile Modeli Değerlendirme\n",
        "model.eval()\n",
        "test_correct = 0\n",
        "test_total = 0\n",
        "with torch.no_grad():\n",
        "    for images, labels in test_loader:\n",
        "        images, labels = images.to(device), labels.to(device)\n",
        "        outputs = model(images).logits\n",
        "        _, predicted = torch.max(outputs, 1)\n",
        "\n",
        "        test_total += labels.size(0)\n",
        "        test_correct += (predicted == labels).sum().item()\n",
        "\n",
        "test_acc = 100 * test_correct / test_total\n",
        "print(f\"Test Accuracy: {test_acc:.2f}%\")\n"
      ],
      "metadata": {
        "colab": {
          "base_uri": "https://localhost:8080/"
        },
        "id": "4LIi-o_Ntx2-",
        "outputId": "15c68eb3-aa87-4e4d-b5c0-3a44af3dc939"
      },
      "execution_count": null,
      "outputs": [
        {
          "metadata": {
            "tags": null
          },
          "name": "stderr",
          "output_type": "stream",
          "text": [
            "Some weights of ViTForImageClassification were not initialized from the model checkpoint at google/vit-base-patch16-224-in21k and are newly initialized: ['classifier.bias', 'classifier.weight']\n",
            "You should probably TRAIN this model on a down-stream task to be able to use it for predictions and inference.\n"
          ]
        },
        {
          "output_type": "stream",
          "name": "stdout",
          "text": [
            "Epoch 1/10, Training Loss: 0.7577, Training Accuracy: 85.92%\n",
            "Epoch 1/10, Validation Loss: 0.3262, Validation Accuracy: 93.33%\n",
            "Epoch 2/10, Training Loss: 0.1733, Training Accuracy: 96.67%\n",
            "Epoch 2/10, Validation Loss: 0.2273, Validation Accuracy: 94.78%\n",
            "Epoch 3/10, Training Loss: 0.0828, Training Accuracy: 98.41%\n",
            "Epoch 3/10, Validation Loss: 0.1863, Validation Accuracy: 95.21%\n",
            "Epoch 4/10, Training Loss: 0.0545, Training Accuracy: 98.97%\n",
            "Epoch 4/10, Validation Loss: 0.2393, Validation Accuracy: 94.05%\n",
            "Epoch 5/10, Training Loss: 0.0559, Training Accuracy: 98.62%\n",
            "Epoch 5/10, Validation Loss: 0.1800, Validation Accuracy: 95.29%\n",
            "Epoch 6/10, Training Loss: 0.0499, Training Accuracy: 98.79%\n",
            "Epoch 6/10, Validation Loss: 0.1744, Validation Accuracy: 95.72%\n",
            "Epoch 7/10, Training Loss: 0.0393, Training Accuracy: 99.02%\n",
            "Epoch 7/10, Validation Loss: 0.1925, Validation Accuracy: 95.50%\n",
            "Epoch 8/10, Training Loss: 0.0197, Training Accuracy: 99.55%\n",
            "Epoch 8/10, Validation Loss: 0.2002, Validation Accuracy: 95.21%\n",
            "Epoch 9/10, Training Loss: 0.0081, Training Accuracy: 99.91%\n",
            "Epoch 9/10, Validation Loss: 0.1498, Validation Accuracy: 97.03%\n",
            "Epoch 10/10, Training Loss: 0.0036, Training Accuracy: 99.97%\n",
            "Epoch 10/10, Validation Loss: 0.1612, Validation Accuracy: 97.10%\n",
            "Test Accuracy: 96.59%\n"
          ]
        }
      ]
    },
    {
      "cell_type": "code",
      "source": [
        "import torch\n",
        "import numpy as np\n",
        "import matplotlib.pyplot as plt\n",
        "from sklearn.metrics import confusion_matrix, classification_report\n",
        "import seaborn as sns\n",
        "\n",
        "# Test Seti ile Modeli Değerlendirme\n",
        "model.eval()\n",
        "all_preds = []\n",
        "all_labels = []\n",
        "\n",
        "# Test verisinde tahminler\n",
        "with torch.no_grad():\n",
        "    for images, labels in test_loader:\n",
        "        images, labels = images.to(device), labels.to(device)\n",
        "        outputs = model(images).logits\n",
        "        _, predicted = torch.max(outputs, 1)\n",
        "\n",
        "        all_preds.extend(predicted.cpu().numpy())\n",
        "        all_labels.extend(labels.cpu().numpy())\n",
        "\n",
        "# Confusion Matrix\n",
        "cm = confusion_matrix(all_labels, all_preds)\n",
        "\n",
        "# Confusion Matrix'i görselleştirme\n",
        "plt.figure(figsize=(8, 6))\n",
        "sns.heatmap(cm, annot=True, fmt=\"d\", cmap=\"Blues\", xticklabels=dataset.classes, yticklabels=dataset.classes)\n",
        "plt.title(\"Confusion Matrix\")\n",
        "plt.xlabel(\"Predicted\")\n",
        "plt.ylabel(\"True\")\n",
        "plt.show()\n",
        "\n",
        "# Classification Report (Precision, Recall, F1-Score)\n",
        "report = classification_report(all_labels, all_preds, target_names=dataset.classes)\n",
        "print(\"Classification Report:\\n\", report)"
      ],
      "metadata": {
        "colab": {
          "base_uri": "https://localhost:8080/",
          "height": 933
        },
        "id": "ypkVZgDH05RB",
        "outputId": "d12f5bcb-5ad5-4fdc-ce72-8400b02ca99e"
      },
      "execution_count": null,
      "outputs": [
        {
          "output_type": "display_data",
          "data": {
            "text/plain": [
              "<Figure size 800x600 with 2 Axes>"
            ],
            "image/png": "[encoded data removed]"
          },
          "metadata": {}
        },
        {
          "output_type": "stream",
          "name": "stdout",
          "text": [
            "Classification Report:\n",
            "               precision    recall  f1-score   support\n",
            "\n",
            "       glass       0.92      0.87      0.89       136\n",
            "   cardboard       0.96      0.94      0.95       168\n",
            "       metal       0.98      0.85      0.91       164\n",
            "       trash       0.91      0.94      0.92       114\n",
            "     clothes       0.96      0.99      0.98       109\n",
            "       shoes       0.97      0.94      0.95       130\n",
            "       paper       0.91      0.94      0.93       145\n",
            "  biological       0.98      0.96      0.97       155\n",
            "     battery       0.94      0.97      0.96       138\n",
            "     plastic       0.77      0.93      0.84       121\n",
            "\n",
            "    accuracy                           0.93      1380\n",
            "   macro avg       0.93      0.93      0.93      1380\n",
            "weighted avg       0.93      0.93      0.93      1380\n",
            "\n"
          ]
        }
      ]
    },
    {
      "cell_type": "code",
      "source": [
        "# Modeli yükle (Örnek: Swin Transformer)\n",
        "from transformers import SwinForImageClassification\n",
        "\n",
        "model = SwinForImageClassification.from_pretrained(\n",
        "    \"microsoft/swin-base-patch4-window7-224\",\n",
        "    num_labels=10,  # Sınıf sayısı\n",
        "    ignore_mismatched_sizes=True  # Boyut uyuşmazlıklarını göz ardı et\n",
        ")\n",
        "\n",
        "# Modeli GPU'ya taşı\n",
        "device = torch.device(\"cuda\" if torch.cuda.is_available() else \"cpu\")\n",
        "model = model.to(device)\n",
        "\n",
        "# Kayıp fonksiyonu ve optimizasyon\n",
        "import torch.optim as optim\n",
        "criterion = torch.nn.CrossEntropyLoss()\n",
        "optimizer = optim.Adam(model.parameters(), lr=1e-4)\n",
        "\n",
        "# Modeli Eğitme\n",
        "num_epochs = 10\n",
        "best_val_acc = 0.0  # En iyi doğrulama doğruluğunu takip etmek için\n",
        "best_model_path = \"best_model.pth\"  # Modelin kaydedileceği dosya yolu\n",
        "\n",
        "for epoch in range(num_epochs):\n",
        "    model.train()\n",
        "    running_loss = 0.0\n",
        "    correct = 0\n",
        "    total = 0\n",
        "\n",
        "    for images, labels in train_loader:\n",
        "        images, labels = images.to(device), labels.to(device)\n",
        "\n",
        "        optimizer.zero_grad()  # Gradients sıfırlanır\n",
        "\n",
        "        outputs = model(images).logits  # Modelden çıktılar alınır\n",
        "        loss = criterion(outputs, labels)  # Kayıp hesaplanır\n",
        "\n",
        "        loss.backward()  # Geriye doğru geçiş yapılır\n",
        "        optimizer.step()  # Parametre güncellenir\n",
        "\n",
        "        running_loss += loss.item()\n",
        "\n",
        "        _, predicted = torch.max(outputs, 1)  # Etiket tahmini\n",
        "        total += labels.size(0)\n",
        "        correct += (predicted == labels).sum().item()\n",
        "\n",
        "    epoch_loss = running_loss / len(train_loader)\n",
        "    epoch_acc = 100 * correct / total\n",
        "    print(f\"Epoch {epoch+1}/{num_epochs}, Training Loss: {epoch_loss:.4f}, Training Accuracy: {epoch_acc:.2f}%\")\n",
        "\n",
        "    # Doğrulama seti üzerinde modelin performansını değerlendirme\n",
        "    model.eval()\n",
        "    val_loss = 0.0\n",
        "    val_correct = 0\n",
        "    val_total = 0\n",
        "    with torch.no_grad():\n",
        "        for images, labels in val_loader:\n",
        "            images, labels = images.to(device), labels.to(device)\n",
        "            outputs = model(images).logits\n",
        "            loss = criterion(outputs, labels)\n",
        "\n",
        "            val_loss += loss.item()\n",
        "            _, predicted = torch.max(outputs, 1)\n",
        "            val_total += labels.size(0)\n",
        "            val_correct += (predicted == labels).sum().item()\n",
        "\n",
        "    val_loss = val_loss / len(val_loader)\n",
        "    val_acc = 100 * val_correct / val_total\n",
        "    print(f\"Epoch {epoch+1}/{num_epochs}, Validation Loss: {val_loss:.4f}, Validation Accuracy: {val_acc:.2f}%\")\n",
        "\n",
        "    # En iyi doğrulama doğruluğunu kontrol et ve modeli kaydet\n",
        "    if val_acc > best_val_acc:\n",
        "        best_val_acc = val_acc\n",
        "        torch.save(model.state_dict(), best_model_path)\n",
        "        print(f\"Best model saved at epoch {epoch+1} with Validation Accuracy: {val_acc:.2f}%\")\n",
        "\n",
        "# Test Seti ile Modeli Değerlendirme\n",
        "model.eval()\n",
        "test_correct = 0\n",
        "test_total = 0\n",
        "with torch.no_grad():\n",
        "    for images, labels in test_loader:\n",
        "        images, labels = images.to(device), labels.to(device)\n",
        "        outputs = model(images).logits\n",
        "        _, predicted = torch.max(outputs, 1)\n",
        "\n",
        "        test_total += labels.size(0)\n",
        "        test_correct += (predicted == labels).sum().item()\n",
        "\n",
        "test_acc = 100 * test_correct / test_total\n",
        "print(f\"Test Accuracy: {test_acc:.2f}%\")\n"
      ],
      "metadata": {
        "id": "jPtaydH390vu",
        "colab": {
          "base_uri": "https://localhost:8080/"
        },
        "outputId": "8de333aa-2aaf-473c-ebca-946e49febee2"
      },
      "execution_count": null,
      "outputs": [
        {
          "output_type": "stream",
          "name": "stderr",
          "text": [
            "Some weights of SwinForImageClassification were not initialized from the model checkpoint at microsoft/swin-base-patch4-window7-224 and are newly initialized because the shapes did not match:\n",
            "- classifier.bias: found shape torch.Size([1000]) in the checkpoint and torch.Size([10]) in the model instantiated\n",
            "- classifier.weight: found shape torch.Size([1000, 1024]) in the checkpoint and torch.Size([10, 1024]) in the model instantiated\n",
            "You should probably TRAIN this model on a down-stream task to be able to use it for predictions and inference.\n"
          ]
        },
        {
          "output_type": "stream",
          "name": "stdout",
          "text": [
            "Epoch 1/10, Training Loss: 0.2813, Training Accuracy: 91.20%\n",
            "Epoch 1/10, Validation Loss: 0.1696, Validation Accuracy: 95.43%\n",
            "Best model saved at epoch 1 with Validation Accuracy: 95.43%\n",
            "Epoch 2/10, Training Loss: 0.0744, Training Accuracy: 97.72%\n",
            "Epoch 2/10, Validation Loss: 0.1215, Validation Accuracy: 96.52%\n",
            "Best model saved at epoch 2 with Validation Accuracy: 96.52%\n",
            "Epoch 3/10, Training Loss: 0.0459, Training Accuracy: 98.65%\n",
            "Epoch 3/10, Validation Loss: 0.1615, Validation Accuracy: 95.21%\n",
            "Epoch 4/10, Training Loss: 0.0409, Training Accuracy: 98.77%\n",
            "Epoch 4/10, Validation Loss: 0.1920, Validation Accuracy: 95.29%\n",
            "Epoch 5/10, Training Loss: 0.0381, Training Accuracy: 98.99%\n",
            "Epoch 5/10, Validation Loss: 0.1489, Validation Accuracy: 96.23%\n",
            "Epoch 6/10, Training Loss: 0.0343, Training Accuracy: 99.04%\n",
            "Epoch 6/10, Validation Loss: 0.1880, Validation Accuracy: 95.00%\n",
            "Epoch 7/10, Training Loss: 0.0377, Training Accuracy: 98.96%\n",
            "Epoch 7/10, Validation Loss: 0.1586, Validation Accuracy: 96.37%\n",
            "Epoch 8/10, Training Loss: 0.0096, Training Accuracy: 99.66%\n",
            "Epoch 8/10, Validation Loss: 0.1635, Validation Accuracy: 96.52%\n",
            "Epoch 9/10, Training Loss: 0.0156, Training Accuracy: 99.63%\n",
            "Epoch 9/10, Validation Loss: 0.1530, Validation Accuracy: 96.74%\n",
            "Best model saved at epoch 9 with Validation Accuracy: 96.74%\n",
            "Epoch 10/10, Training Loss: 0.0144, Training Accuracy: 99.61%\n",
            "Epoch 10/10, Validation Loss: 0.1966, Validation Accuracy: 95.72%\n",
            "Test Accuracy: 96.01%\n"
          ]
        }
      ]
    },
    {
      "cell_type": "code",
      "source": [
        "import torch\n",
        "import numpy as np\n",
        "import matplotlib.pyplot as plt\n",
        "from sklearn.metrics import confusion_matrix, classification_report\n",
        "import seaborn as sns\n",
        "\n",
        "# Test Seti ile Modeli Değerlendirme\n",
        "model.eval()\n",
        "all_preds = []\n",
        "all_labels = []\n",
        "\n",
        "# Test verisinde tahminler\n",
        "with torch.no_grad():\n",
        "    for images, labels in test_loader:\n",
        "        images, labels = images.to(device), labels.to(device)\n",
        "        outputs = model(images).logits\n",
        "        _, predicted = torch.max(outputs, 1)\n",
        "\n",
        "        all_preds.extend(predicted.cpu().numpy())\n",
        "        all_labels.extend(labels.cpu().numpy())\n",
        "\n",
        "# Confusion Matrix\n",
        "cm = confusion_matrix(all_labels, all_preds)\n",
        "\n",
        "# Confusion Matrix'i görselleştirme\n",
        "plt.figure(figsize=(8, 6))\n",
        "sns.heatmap(cm, annot=True, fmt=\"d\", cmap=\"Blues\", xticklabels=dataset.classes, yticklabels=dataset.classes)\n",
        "plt.title(\"Confusion Matrix\")\n",
        "plt.xlabel(\"Predicted\")\n",
        "plt.ylabel(\"True\")\n",
        "plt.show()\n",
        "\n",
        "# Classification Report (Precision, Recall, F1-Score)\n",
        "report = classification_report(all_labels, all_preds, target_names=dataset.classes)\n",
        "print(\"Classification Report:\\n\", report)"
      ],
      "metadata": {
        "colab": {
          "base_uri": "https://localhost:8080/",
          "height": 933
        },
        "id": "u28nwZF-3Li0",
        "outputId": "ac3669ee-a560-472b-e26c-8312b476c4a2"
      },
      "execution_count": null,
      "outputs": [
        {
          "output_type": "display_data",
          "data": {
            "text/plain": [
              "<Figure size 800x600 with 2 Axes>"
            ],
            "image/png": "[encoded data removed]"
          },
          "metadata": {}
        },
        {
          "output_type": "stream",
          "name": "stdout",
          "text": [
            "Classification Report:\n",
            "               precision    recall  f1-score   support\n",
            "\n",
            "       glass       0.92      0.94      0.93       131\n",
            "   cardboard       0.95      0.96      0.96       146\n",
            "       metal       0.97      0.94      0.96       161\n",
            "       trash       0.88      0.99      0.93       107\n",
            "     clothes       0.99      0.99      0.99       136\n",
            "       shoes       0.99      0.96      0.98       124\n",
            "       paper       0.94      0.93      0.94       141\n",
            "  biological       0.98      0.99      0.98       131\n",
            "     battery       0.97      0.99      0.98       151\n",
            "     plastic       0.99      0.93      0.96       152\n",
            "\n",
            "    accuracy                           0.96      1380\n",
            "   macro avg       0.96      0.96      0.96      1380\n",
            "weighted avg       0.96      0.96      0.96      1380\n",
            "\n"
          ]
        }
      ]
    },
    {
      "cell_type": "code",
      "source": [],
      "metadata": {
        "id": "8x0j7-3_FpDZ"
      },
      "execution_count": null,
      "outputs": []
    }
  ]
}